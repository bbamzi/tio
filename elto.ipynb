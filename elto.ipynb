{
 "cells": [
  {
   "cell_type": "code",
   "execution_count": 1,
   "metadata": {},
   "outputs": [],
   "source": [
    "# Import libraries \n",
    "import pandas as pd\n",
    "import warnings\n",
    "warnings.filterwarnings(\"ignore\")\n",
    "# For connect to google sheet\n",
    "import gspread\n",
    "from oauth2client.service_account import ServiceAccountCredentials\n",
    "from df2gspread import df2gspread as d2g\n",
    "# Configure the connection \n",
    "scope = ['https://spreadsheets.google.com/feeds']\n",
    "# Give the path to the Service Account Credential json file \n",
    "credentials = ServiceAccountCredentials.from_json_keyfile_name('eltos-delight-f8d3c6a963ea.json',scope)\n",
    "# Authorise your Notebook\n",
    "gc = gspread.authorize(credentials)\n",
    "# The sprad sheet ID, which can be taken from the link to the sheet\n",
    "spreadsheet_key = '1QqCQk3hIHiJ_v_3ITtKBtJidcPEaHDCflXvMgxosVbA'\n",
    "book = gc.open_by_key(spreadsheet_key) \n",
    "worksheet = book.worksheet(\"tio\") \n",
    "table = worksheet.get_all_values()"
   ]
  },
  {
   "cell_type": "code",
   "execution_count": 2,
   "metadata": {},
   "outputs": [],
   "source": [
    "##Convert table data into a dataframe \n",
    "df = pd.DataFrame(table[1:], columns=table[0])\n",
    "##Convert number strings to floats and ints \n",
    "df = df.apply(pd.to_numeric, errors='ignore')"
   ]
  },
  {
   "cell_type": "code",
   "execution_count": 3,
   "metadata": {},
   "outputs": [],
   "source": [
    "df['Full Name'] = df['First Name'] + ' '+ df['Last Name'] \n",
    "mid = df['Full Name']\n",
    "df.drop(labels=['Full Name'], axis=1, inplace = True)\n",
    "df.insert(1, 'Full Name', mid)\n",
    "df['Full Name']= df['Full Name'].str.title()"
   ]
  },
  {
   "cell_type": "code",
   "execution_count": 4,
   "metadata": {},
   "outputs": [],
   "source": [
    "#lets all column name start with capital letter\n",
    "for col in df:\n",
    "    col.title()"
   ]
  },
  {
   "cell_type": "code",
   "execution_count": 5,
   "metadata": {},
   "outputs": [],
   "source": [
    "df['State of Residence'] = df['State of Residence'].str.title()\n",
    "df['State of Residence'] = df[['State of Residence']].applymap(lambda x: x.split()[0]+ ' State')"
   ]
  },
  {
   "cell_type": "code",
   "execution_count": 6,
   "metadata": {},
   "outputs": [],
   "source": [
    "df = df.rename(columns= {'Timestamp' : 'Date'})\n",
    "df = df.rename(columns= {'What flavor' : 'Flavours'})\n",
    "import datetime\n",
    "import calendar"
   ]
  },
  {
   "cell_type": "code",
   "execution_count": 7,
   "metadata": {},
   "outputs": [
    {
     "data": {
      "text/plain": [
       "Index(['Date', 'Full Name', 'First Name', 'Last Name', 'Phone number', 'Email',\n",
       "       'Address', 'State of Residence', 'Size', 'Flavours',\n",
       "       'Social Media Handle(s)'],\n",
       "      dtype='object')"
      ]
     },
     "execution_count": 7,
     "metadata": {},
     "output_type": "execute_result"
    }
   ],
   "source": [
    "df['Date']= pd.to_datetime(df['Date'])\n",
    "df.columns"
   ]
  },
  {
   "cell_type": "code",
   "execution_count": 8,
   "metadata": {},
   "outputs": [],
   "source": [
    "def category(ss):\n",
    "    if ss['Size'] == '900g':\n",
    "        return 2\n",
    "    elif ss['Size'] == '430g':\n",
    "        return 1\n",
    "    else:\n",
    "        return 3\n",
    "    "
   ]
  },
  {
   "cell_type": "code",
   "execution_count": 9,
   "metadata": {},
   "outputs": [],
   "source": [
    "df['Unit'] = df.apply(category, axis=1)"
   ]
  },
  {
   "cell_type": "code",
   "execution_count": 10,
   "metadata": {},
   "outputs": [
    {
     "data": {
      "text/plain": [
       "Index(['Date', 'Full Name', 'First Name', 'Last Name', 'Phone number', 'Email',\n",
       "       'Address', 'State of Residence', 'Size', 'Flavours',\n",
       "       'Social Media Handle(s)', 'Unit', 'Amount'],\n",
       "      dtype='object')"
      ]
     },
     "execution_count": 10,
     "metadata": {},
     "output_type": "execute_result"
    }
   ],
   "source": [
    "df['Amount'] = df['Unit'] * 750\n",
    "df.columns"
   ]
  },
  {
   "cell_type": "code",
   "execution_count": 11,
   "metadata": {},
   "outputs": [],
   "source": [
    "for_analysis = df[['Date','Full Name','State of Residence','Size', 'Flavours','Unit','Amount']]"
   ]
  },
  {
   "cell_type": "code",
   "execution_count": 12,
   "metadata": {},
   "outputs": [
    {
     "data": {
      "text/plain": [
       "<Worksheet 'For_Analysis' id:506361202>"
      ]
     },
     "execution_count": 12,
     "metadata": {},
     "output_type": "execute_result"
    }
   ],
   "source": [
    "from df2gspread import df2gspread as d2g \n",
    "wks_name = 'For_Analysis' \n",
    "d2g.upload(for_analysis, spreadsheet_key, wks_name, credentials=credentials, row_names=True)\n",
    "\n"
   ]
  },
  {
   "cell_type": "code",
   "execution_count": null,
   "metadata": {},
   "outputs": [],
   "source": []
  }
 ],
 "metadata": {
  "kernelspec": {
   "display_name": "Python 3",
   "language": "python",
   "name": "python3"
  },
  "language_info": {
   "codemirror_mode": {
    "name": "ipython",
    "version": 3
   },
   "file_extension": ".py",
   "mimetype": "text/x-python",
   "name": "python",
   "nbconvert_exporter": "python",
   "pygments_lexer": "ipython3",
   "version": "3.7.6"
  }
 },
 "nbformat": 4,
 "nbformat_minor": 4
}
